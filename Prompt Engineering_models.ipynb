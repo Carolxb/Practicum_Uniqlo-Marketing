{
 "cells": [
  {
   "cell_type": "markdown",
   "id": "c415be6d",
   "metadata": {},
   "source": [
    "# API Generate Picture:  "
   ]
  },
  {
   "cell_type": "code",
   "execution_count": 2,
   "id": "0c6ac323",
   "metadata": {},
   "outputs": [],
   "source": [
    "#export REPLICATE_API_TOKEN = ************************"
   ]
  },
  {
   "cell_type": "markdown",
   "id": "4116377f",
   "metadata": {},
   "source": [
    "Connect API with Replicate's model - instruct-pix2pix. This model can help generate the image based on the user input instruction and parameters. <br>\n",
    "the image is the link: https://image.uniqlo.com/UQ/ST3/us/imagesgoods/465185/item/usgoods_71_465185.jpg?width=700<br>\n",
    "Some parameters explaination:\n",
    "- Prompt: prompt to guide the image generation. \n",
    "- negative_prompt: The prompt or prompts not to guide the image generation (what you do not want to see in the generation). \n",
    "- num_outputs: Number of images to output\n",
    "- guidance_scale: Scale for classifier-free guidance. Higher guidance scale encourages to generate images that are closely linked to the text prompt, usually at the expense of lower image quality. (I higher this a little bit, default is 7.5)\n",
    "- num_inference_steps: The number of denoising steps. More denoising steps usually lead to a higher quality image at the expense of slower inference.\n",
    "- image_guidance_scale: Image guidance scale is to push the generated image towards the inital image. Higher image guidance scale encourages to generate images that are closely linked to the source image, usually at the expense of lower image quality."
   ]
  },
  {
   "cell_type": "code",
   "execution_count": 1,
   "id": "b46c43e5",
   "metadata": {},
   "outputs": [
    {
     "data": {
      "text/html": [
       "<img src=\"https://replicate.delivery/pbxt/VqvzFDquWn67FVviJJ31aRH0djeH9N79tk7U9oqfuHk8ETdSA/out-0.png\" width=\"300\" height=\"200\"/>"
      ],
      "text/plain": [
       "<IPython.core.display.Image object>"
      ]
     },
     "execution_count": 1,
     "metadata": {},
     "output_type": "execute_result"
    }
   ],
   "source": [
    "import replicate\n",
    "from IPython.display import Image\n",
    "\n",
    "output = replicate.run(\n",
    "    \"timothybrooks/instruct-pix2pix:30c1d0b916a6f8efce20493f5d61ee27491ab2a60437c13c588468b9810ec23f\",\n",
    "    input={\n",
    "        \"image\": \"https://image.uniqlo.com/UQ/ST3/us/imagesgoods/465185/item/usgoods_71_465185.jpg?width=700\",\n",
    "        \"prompt\": \"Change only the T-shirt's color to pink.\",\n",
    "        \"negative_prompt\": \"\"\"Don't change the pant's color!!!! Don't change the background color!!!!\"\"\",\n",
    "        \"scheduler\": \"K_EULER_ANCESTRAL\",\n",
    "        \"num_outputs\": 1,\n",
    "        \"guidance_scale\": 9,\n",
    "        \"num_inference_steps\": 100,\n",
    "        \"image_guidance_scale\": 1.5\n",
    "    }\n",
    ")\n",
    "\n",
    "# Extract the URL of the output image\n",
    "output_image_url = output[0]  # Assuming the output is a list containing the URL of the image\n",
    "\n",
    "# Display the image in the notebook\n",
    "Image(url=output_image_url, width=300, height=200)\n"
   ]
  },
  {
   "cell_type": "markdown",
   "id": "0ce446ac",
   "metadata": {},
   "source": [
    "# Prompt Engineering"
   ]
  },
  {
   "cell_type": "markdown",
   "id": "f30350af",
   "metadata": {},
   "source": [
    "## Langchain"
   ]
  },
  {
   "cell_type": "markdown",
   "id": "cc5e48d1",
   "metadata": {},
   "source": [
    "This is the LLMChain model from langchain. An LLMChain is a simple chain that adds some functionality around language models. It is used widely throughout LangChain, including in other chains and agents.It formats the prompt template using the input key values provided (and also memory key values, if available), passes the formatted string to LLM and returns the LLM output.<br>\n",
    "\n",
    "Variables in the code:\n",
    "- customized_text: this contains a template for generating marketing promotion content. This template includes user input metrices such as product name, features, hashtags, weather, advertising objectives, promotion specials, and style of writing. It also includes variables such as image, query, and an answer. \n",
    "- template: the prompt template has the pdf file we created (template_text) and the customized_text.\n",
    "\n",
    "Model explaination:<br>\n",
    "- Prompt Template: The LLMChain typically operates with a prompt template. This template serves as a structured **input format that guides the model** in understanding and generating text. It contains placeholders for variables that can be filled with specific information relevant to the task at hand.\n",
    "- LLMChain: The LLMChain includes one or more language model instances. These instances are responsible for **processing the prompt template and generating text based on the provided input**. In the provided code, the LLMChain utilizes an instance of ***OpenAI's GPT-4 model*** for text generation.\n",
    "\n",
    "Overall, the LLMChain model acts as an intermediary layer between the user input and the language model(s), providing a structured approach to leverage the power of language models for specific tasks while allowing flexibility in input formats and model selection. It enables the composition of more sophisticated language processing pipelines by chaining together multiple language models and processing steps."
   ]
  },
  {
   "cell_type": "code",
   "execution_count": 3,
   "id": "02d1e5f8",
   "metadata": {},
   "outputs": [],
   "source": [
    "# !pip install openai==0.27.8 langchain==0.0.225"
   ]
  },
  {
   "cell_type": "code",
   "execution_count": 7,
   "id": "6dc8fb88",
   "metadata": {},
   "outputs": [],
   "source": [
    "import openai\n",
    "import os\n",
    "\n",
    "os.environ['OPENAI_API_KEY'] = '******************************'"
   ]
  },
  {
   "cell_type": "code",
   "execution_count": 5,
   "id": "f41f8926",
   "metadata": {},
   "outputs": [],
   "source": [
    "#pip install PyPDF2"
   ]
  },
  {
   "cell_type": "code",
   "execution_count": 8,
   "id": "d61593e0",
   "metadata": {},
   "outputs": [],
   "source": [
    "# Read the pdf file:\n",
    "import PyPDF2\n",
    "\n",
    "# Function to extract text from a PDF file\n",
    "def extract_text_from_pdf(pdf_file):\n",
    "    with open(pdf_file, 'rb') as file:\n",
    "        reader = PyPDF2.PdfReader(file)\n",
    "        text = ''\n",
    "        for page in reader.pages:\n",
    "            text += page.extract_text()\n",
    "    return text\n",
    "\n",
    "pdf_file_path = 'instruction.pdf'\n",
    "\n",
    "template_text = extract_text_from_pdf(pdf_file_path)\n",
    "\n",
    "template = template_text"
   ]
  },
  {
   "cell_type": "code",
   "execution_count": 9,
   "id": "87ffcbbb",
   "metadata": {},
   "outputs": [
    {
     "name": "stdout",
     "output_type": "stream",
     "text": [
      "Title: \"Get in gear for warm weather with Uniqlo's AIRism Cotton Crew Neck T-Shirt!🌤️\"\n",
      "\n",
      "Text: \"Spring is here, and it's time to dress accordingly. Presenting Uniqlo's AIRism Cotton Crew Neck T-Shirt - your perfect companion for the changing weather🌸. Crafted with breathable, quick-drying, and anti-odor properties, this t-shirt is designed for the active individual on the go. 🏃‍♂️\n",
      "\n",
      "Whether you're meeting friends for a weekend brunch or running errands in the city, this shirt has got you covered with its seamless fit and advanced AIRism technology. Best part? It's part of our current promotion, where you can buy 2 for $29.90! 🙌\n",
      "\n",
      "Why wait? Visit your nearest Uniqlo store or shop online now to avail of this limited-time offer! Don't forget to tag us in your fits using #UniqloOutfit and #UniqloFittingRoom. Excited to see how you rock this super cool and comfy tee! 👕✨\n",
      "\n",
      "#UniqloAIRism #UniqloPromotion @UNIQLO.fit.fanpage @UniqloOutfitGuide\"\n"
     ]
    }
   ],
   "source": [
    "from langchain.llms import OpenAI\n",
    "from langchain import PromptTemplate, LLMChain\n",
    "\n",
    "davinci = OpenAI(model_name='gpt-4')\n",
    "\n",
    "customized_text = \"\"\"\n",
    "Generate marketing promotion content.\n",
    "You will receive a picture named \"{image}\" please identify the following user input matrices:\n",
    "\n",
    "Product Name: Uniqlo AIRism Cotton Crew Neck T-Shirt\n",
    "Features: Breathable, quick-drying, anti-odor\n",
    "Hashtags: #UniqloOutfit #UniqloFittingRoom\".\n",
    "Weather: Warm, spring\n",
    "Advertising Objective: Promotion\n",
    "Promotion Specials:  2 for $29.90 \n",
    "Style of Writing: For KOLs\n",
    "\n",
    "Question: {query}\n",
    "\n",
    "Answer: \n",
    "\"\"\"\n",
    "\n",
    "# Build prompt template for simple question-answering\n",
    "template = template_text + customized_text\n",
    "\n",
    "prompt = PromptTemplate(input_variables=[\"query\", \"image\"], template=template)\n",
    "\n",
    "llm_chain = LLMChain(\n",
    "    prompt=prompt,\n",
    "    llm=davinci\n",
    ")\n",
    "\n",
    "question = \"Please write marketing content based on the template\"\n",
    "image_file_name = \"image.jpg\"  # Provide the image file name here\n",
    "\n",
    "print(llm_chain.run(query=question, image=image_file_name))\n"
   ]
  },
  {
   "cell_type": "markdown",
   "id": "79f913f1",
   "metadata": {},
   "source": [
    "## Evaluate Performance"
   ]
  },
  {
   "cell_type": "code",
   "execution_count": 21,
   "id": "5c8337c3",
   "metadata": {},
   "outputs": [],
   "source": [
    "#pip install -U sentence-transformers"
   ]
  },
  {
   "cell_type": "markdown",
   "id": "28ce6c1e",
   "metadata": {},
   "source": [
    "### Real case test"
   ]
  },
  {
   "cell_type": "code",
   "execution_count": 18,
   "id": "f9eb7434",
   "metadata": {},
   "outputs": [
    {
     "name": "stderr",
     "output_type": "stream",
     "text": [
      "/Users/carol/anaconda3/lib/python3.11/site-packages/langchain/llms/openai.py:189: UserWarning: You are trying to use a chat model. This way of initializing it is no longer supported. Instead, please use: `from langchain.chat_models import ChatOpenAI`\n",
      "  warnings.warn(\n",
      "/Users/carol/anaconda3/lib/python3.11/site-packages/langchain/llms/openai.py:769: UserWarning: You are trying to use a chat model. This way of initializing it is no longer supported. Instead, please use: `from langchain.chat_models import ChatOpenAI`\n",
      "  warnings.warn(\n"
     ]
    },
    {
     "name": "stdout",
     "output_type": "stream",
     "text": [
      "Title: This is THE perfect cardigan you need for summer! ☀️ \n",
      "\n",
      "Text: \n",
      "Just in time for the summer heat, the Uniqlo sun protection cardigan has got you covered. This beauty is more than just a coverup. It's lightweight, breathable, and oh-so-chic, perfect for out-and-about adventures! 🌴\n",
      "  \n",
      "The loose yet slimming fit gives you that comfortable, airy feel without sacrificing style. Fantastic, right? Pair it with your favorite Uniqlo work pants, and you're all set. It's your ultimate summer staple in the wardrobe. 👖\n",
      "\n",
      "With its refreshing cut, not only does it protect you from the sun's glare, it also elevates your look. Style effortlessly and stays cool in this summer must-have piece! 🌸 Effortless and stylish, because that’s the Uniqlo way.\n",
      "\n",
      "Get yours in Uniqlo now, don't miss out on this summer must-have. 🛍️  See ya in #UniqloFittingRoom! 📸 #Uniqlo #UniqloBestsellersDiary #UniqloOutfit #UniqloFashionLightPants #UniqloWorkPants\n"
     ]
    }
   ],
   "source": [
    "#Real case test:\n",
    "from langchain.llms import OpenAI\n",
    "from langchain import PromptTemplate, LLMChain\n",
    "\n",
    "davinci = OpenAI(model_name='gpt-4')\n",
    "\n",
    "customized_text = \"\"\"\n",
    "Generate marketing promotion content.\n",
    "You will receive a picture named \"{image}\" please identify the following user input matrices:\n",
    "\n",
    "Product Name: Uniqlo sun protection cardigan\n",
    "Features: outdoor, comfortable, refreshing, Loose fit, Slimming, freely\n",
    "Hashtags: #UniqloFittingRoom #UniqloBestsellersDiary #UniqloOutfit #Uniqlo #UniqloFashionLightPants #UniqloWorkPants\n",
    "Weather: summer\n",
    "Advertising Objective: \n",
    "Promotion Specials:  \n",
    "Style of Writing: For KOLs\n",
    "\n",
    "Question: {query}\n",
    "\n",
    "Answer: \n",
    "\"\"\"\n",
    "\n",
    "# Build prompt template for simple question-answering\n",
    "template = template_text + customized_text\n",
    "\n",
    "prompt = PromptTemplate(input_variables=[\"query\", \"image\"], template=template)\n",
    "\n",
    "llm_chain = LLMChain(\n",
    "    prompt=prompt,\n",
    "    llm=davinci\n",
    ")\n",
    "\n",
    "question = \"Please write marketing content based on the template\"\n",
    "image_file_name = \"test_set/images/5.jpg\"  # Provide the image file name here\n",
    "\n",
    "print(llm_chain.run(query=question, image=image_file_name))\n"
   ]
  },
  {
   "cell_type": "code",
   "execution_count": 20,
   "id": "c0bc695c",
   "metadata": {},
   "outputs": [
    {
     "data": {
      "text/plain": [
       "tensor([[0.6097]])"
      ]
     },
     "execution_count": 20,
     "metadata": {},
     "output_type": "execute_result"
    }
   ],
   "source": [
    "# Evaluate Performance:\n",
    "test_dataset = [\n",
    "    {\"ground_truth\": \"[Title]: Uniqlo | Worthy of me getting two colors of the sun protection cardigan❗️ Extremely simple and relaxed.\\n[Text]: Just eagerly looking forward to spring/summer outfits. I really love these two pairs of pants, they're the lightest work pants I've ever worn. Loose fit, covering and slimming, making you look taller. Girls with a bit of belly fat really love pants with drawstring designs at the waist, they're very comfortable. The cuffs can also be adjusted freely, allowing for both wide-leg and tapered styles. The light gray one even has sun protection, feels comfortable and refreshing to wear. The knee area is thoughtfully pleated, so there's no feeling of restriction no matter how you move. Suitable for outdoor activities or daily wear. Really good, love them ❤️ Tried them on, very 👍 Sisters, go for it with confidence! 👖: 464888, 468583 #UniqloFittingRoom #UniqloBestsellersDiary #UniqloOutfit #Uniqlo #UniqloFashionLightPants #UniqloWorkPants #UniqloParachutePants #UniqloPants #SpringSummerOutfit #WorkPantsOutfit #VersatileWorkPants #MiracleSlimmingPants #DailyOutfit #EverydayOutfit\"}\n",
    "    # Add more test cases as needed\n",
    "]#real case test\n",
    "\n",
    "from sentence_transformers import SentenceTransformer, util\n",
    "sentences = [test_dataset, llm_chain.run(query=question, image=image_file_name)]\n",
    "\n",
    "model = SentenceTransformer('sentence-transformers/all-MiniLM-L6-v2')\n",
    "\n",
    "#Compute embedding for both lists\n",
    "embedding_1= model.encode(sentences[0], convert_to_tensor=True)\n",
    "embedding_2 = model.encode(sentences[1], convert_to_tensor=True)\n",
    "\n",
    "util.pytorch_cos_sim(embedding_1, embedding_2)"
   ]
  },
  {
   "cell_type": "code",
   "execution_count": null,
   "id": "3472b76b",
   "metadata": {},
   "outputs": [],
   "source": []
  },
  {
   "cell_type": "markdown",
   "id": "989d772f",
   "metadata": {},
   "source": [
    "## Few Shot"
   ]
  },
  {
   "cell_type": "markdown",
   "id": "d0a6498f",
   "metadata": {},
   "source": [
    "Variables in the code:\n",
    "- customized_text: this contains a template for generating marketing promotion content. This template includes user input metrices such as product name, features, hashtags, weather, advertising objectives, promotion specials, and style of writing. It also includes variables such as query and an answer.\n",
    "- query: template_text and customized_text together is the query (template)\n",
    "\n",
    "Few-Shot Prompt Template:<br>\n",
    "The FewShotPromptTemplate class is used for few-shot learning, where the model learns from a few examples provided. It takes examples of prompts containing queries, answers, and picture filenames. These examples serve as training data for the model.<br>\n",
    "It utilizes the defined PromptTemplate to format the examples and includes a prefix and suffix for contextual information around the examples.<br>\n",
    "The example_separator parameter specifies how examples are separated in the template.<br>\n",
    "\n",
    "Prefix:<br>\n",
    "- The prefix is a piece of text added to the beginning of the input text. It can be used to introduce context, provide additional information, or set the tone for the generated text.\n",
    "- In the context of text generation, a prefix can help guide the model by providing context or constraints for the generated text. It can specify the topic, style, or desired outcome of the text generation process.\n",
    "- For example, in a conversational setting, a prefix might include information about the speaker or the context of the conversation.\n",
    "\n",
    "Suffix:<br>\n",
    "- The suffix is a piece of text added to the end of the input text. It can be used to **conclude the input text**, provide closing remarks, or prepare the model for the next part of the text.\n",
    "- Similar to the prefix, the suffix can influence the model's output by providing context or indicating the expected structure of the generated text.\n",
    "- For example, in a dialogue generation task, a suffix might include a prompt for the next speaker or signal the end of the conversation.\n",
    "--> I did not put any prefix here, but put the user input metrices into the suffix.<br>\n",
    "\n"
   ]
  },
  {
   "cell_type": "code",
   "execution_count": 8,
   "id": "ca5b4c20",
   "metadata": {},
   "outputs": [
    {
     "name": "stdout",
     "output_type": "stream",
     "text": [
      "Sure, based on your provided user input matrix and the image analyzed, let me generate the marketing content for the Uniqlo AIRism Cotton Crew Neck T-Shirt. \n",
      "\n",
      "Content Structure: Target Audience - Unisex, Product - Uniqlo AIRism Cotton Crew Neck T-Shirt, Season - Spring \n",
      "\n",
      "🟢 **Title (For KOLs)**: \"Feel the air on your skin with Uniqlo AIRism Cotton Crew Neck T-Shirt! 🌤🍃\"\n",
      "\n",
      "**Body Text (For KOLs)**: \n",
      "\n",
      "\"Hello sunshine and hello spring!🌤🌷 For all of you out there ready to embrace the warm season, there's no better way to start your spring wardrobe than with the Uniqlo AIRism Cotton Crew Neck T-Shirt.💚 🙌\n",
      "\n",
      "Made of breathable, quick-drying, and anti-odor material, you will love the effortless comfort that comes with it. The T-Shirt keeps you fresh as a daisy all day long, even as the temperature soars! 😎💦\n",
      "\n",
      "Hit the streets or relax at home, either way, you'll love the softness of our AIRism on your skin! It's so lightweight that it almost feels like you're not wearing anything🍃\n",
      "\n",
      "This amazing T-Shirt is currently on promotion: 2 for $29.90!🔥 Perfect timing to refresh your wardrobe for the new season. \n",
      "\n",
      "The cherry on the top? Remember the chic #UniqloOutfit and show how it fits you in the #UniqloFittingRoom! Let's welcome the spring together with UNIQLO!🌷🌼\"\n",
      "\n",
      "#UniqloStyle #UniqloAIRism #EveryDayEssentials #SpringFashion #LightAsAir #LiveInComfort\n"
     ]
    }
   ],
   "source": [
    "from langchain import FewShotPromptTemplate, PromptTemplate\n",
    "\n",
    "\n",
    "# Create example prompts\n",
    "examples = [\n",
    "    {\n",
    "        \"query\": template_text,\n",
    "        \"answer\": \"\",\n",
    "        \"picture_filename\": \"image.jpg\"  # Placeholder filename for the picture\n",
    "    },\n",
    "]\n",
    "\n",
    "example_template = \"\"\"\n",
    "User: {query}\n",
    "AI: {answer}\n",
    "Picture filename: {picture_filename}\n",
    "\"\"\"\n",
    "\n",
    "\n",
    "example_prompt = PromptTemplate(\n",
    "    input_variables=[\"query\", \"answer\", \"picture_filename\"],  # Make sure all input parameters are included\n",
    "    template=example_template\n",
    ")\n",
    "\n",
    "#  It can be used to introduce the response or provide any contextual information. \n",
    "prefix = \"\"\"\"\"\"\n",
    "\n",
    "#  It can be used to conclude the response or add any closing remarks.\n",
    "suffix = \"\"\"please identify the following user input matrices:\n",
    "\n",
    "Product Name: Uniqlo AIRism Cotton Crew Neck T-Shirt\n",
    "Features: Breathable, quick-drying, anti-odor\n",
    "Hashtags: #UniqloOutfit #UniqloFittingRoom\".\n",
    "Weather: Warm, spring\n",
    "Advertising Objective: Promotion\n",
    "Promotion Specials:  2 for $29.90 \n",
    "Style of Writing: For KOLs\n",
    "\n",
    "User: {query}\n",
    "AI: \"\"\"\n",
    "\n",
    "few_shot_prompt_template = FewShotPromptTemplate(\n",
    "    examples=examples,\n",
    "    example_prompt=example_prompt,\n",
    "    prefix=prefix,\n",
    "    suffix=suffix,\n",
    "    input_variables=[\"query\"],\n",
    "    example_separator=\"\\\\\\\\n\\\\\\\\n\"\n",
    ")\n",
    "\n",
    "# Define a sample query\n",
    "query = \"Can you provide marketing content for this UNIQLO product based on the given picture?\"\n",
    "\n",
    "print(\n",
    "    davinci(\n",
    "        few_shot_prompt_template.format(query=query)\n",
    "    )\n",
    ")\n",
    "\n"
   ]
  },
  {
   "cell_type": "markdown",
   "id": "d543f8db",
   "metadata": {},
   "source": [
    "## Sequential Chains prompting"
   ]
  },
  {
   "cell_type": "markdown",
   "id": "3bd668ce",
   "metadata": {},
   "source": [
    "The SequentialChain allows us to combine multiple chains sequentially, creating an integrated chain. This is useful when we want to apply a series of transformations or operations to the input data.<br>\n",
    "\n",
    "To illustrate the use of generic chains, let's go through an example workflow in which we will:<br>\n",
    "1. We have a dirty input text with extra spaces.\n",
    "2. We pass the input text through the clean_extra_spaces_chain to remove the extra spaces.\n",
    "3. We then pass the cleaned text to the style_paraphrase_chain to paraphrase the text in a specific style (e.g., a poet or a policeman).\n",
    "<br>\n",
    "\n",
    " \n",
    "Functions Explaination:<br>\n",
    "- replace_newlines: Replaces newline characters in the text.\n",
    "- count_tokens: Counts the number of tokens used during model execution.\n",
    "- transform_func: Performs text transformations to clean extra spaces and newlines.\n",
    "- clean_extra_spaces_chain: A transformation chain to clean extra spaces.\n",
    "- customized_text: Customized text for marketing promotion content generation.\n",
    "- template: Prompt template for generating paraphrases.\n",
    "- style_paraphrase_chain: An LLMChain for paraphrasing text.\n",
    "- sequential_chain: A SequentialChain to apply transformations and paraphrasing sequentially.\n",
    "- input_data: Dictionary containing input text, style, and image filename.\n",
    "- count_tokens: Executes the SequentialChain with the input data and counts the number of tokens used."
   ]
  },
  {
   "cell_type": "code",
   "execution_count": 11,
   "id": "abf7f895",
   "metadata": {},
   "outputs": [
    {
     "name": "stdout",
     "output_type": "stream",
     "text": [
      "Spent a total of 2697 tokens\n",
      "Title: Spring is in the Air with Uniqlo's AIRism! 🌸#UniqloFittingRoom \n",
      "\n",
      "Text: Hello there, fashion lovers! 😘 Let's welcome the warm weather with Uniqlo's AIRism Cotton Crew Neck T-Shirt. 🌞👕 Designed to keep you cool and comfortable, this shirt is your perfect companion for spring. Its breathable, quick-drying, and anti-odor features are heaven-sent for sunny days out! 🏝️ For those of you who like to mix and match, good news! We’ve got a special promotion - 2 for just $29.90! This is a golden opportunity you surely don't want to miss. Grab yours now and let's jazz up our spring wardrobe. 💃🕺Follow us to the #UniqloFittingRoom and let's get you fitted right away. Share your spring #UniqloOutfit, we can't wait to see your stylish picks!  🥳\n"
     ]
    }
   ],
   "source": [
    "import re  \n",
    "from langchain import PromptTemplate, LLMChain\n",
    "from langchain.llms import OpenAI\n",
    "from langchain.callbacks import get_openai_callback\n",
    "from langchain.chains import TransformChain, SequentialChain  \n",
    "\n",
    "def replace_newlines(text):\n",
    "    # Replace '\\n' with actual newline characters\n",
    "    text = text.replace(r'\\n', '\\n')\n",
    "    return text\n",
    "\n",
    "def count_tokens(chain, query):\n",
    "    with get_openai_callback() as cb:\n",
    "        result = chain.run(query)\n",
    "        print(f'Spent a total of {cb.total_tokens} tokens')\n",
    "        print(replace_newlines(result))\n",
    "#     return result \n",
    "\n",
    "def transform_func(inputs: dict) -> dict:\n",
    "    text = inputs[\"text\"]\n",
    "    # Replace multiple new lines and multiple spaces with a single one\n",
    "    text = re.sub(r'(\\\\\\\\r\\\\\\\\n|\\\\\\\\r|\\\\\\\\n){2,}', r'\\\\\\\\n', text)\n",
    "    text = re.sub(r'[ \\\\\\\\t]+', ' ', text)\n",
    "    return {\"output_text\": text}\n",
    "\n",
    "def add_image_to_input(inputs: dict) -> dict:\n",
    "    # Assuming the image is provided as a filename in the 'image' key\n",
    "    image_filename = inputs[\"image\"]\n",
    "    # Here you can load the image and process it as needed\n",
    "    # For simplicity, let's just pass the filename to the output\n",
    "    return {\"image\": image_filename}\n",
    "\n",
    "# Initialize OpenAI's GPT model\n",
    "davinci = OpenAI(model_name='gpt-4')\n",
    "\n",
    "# Define a transformation chain to clean extra spaces\n",
    "clean_extra_spaces_chain = TransformChain(\n",
    "    input_variables=[\"text\"],\n",
    "    output_variables=[\"output_text\"],\n",
    "    transform=transform_func\n",
    ")\n",
    "\n",
    "customized_text = \"\"\"\n",
    "Generate marketing promotion content.\n",
    "You will receive a picture named \"{image}\" \n",
    "\n",
    "{output_text}\n",
    " \n",
    "In the style of a {style}.\n",
    "\n",
    "Paraphrase:\n",
    "\n",
    "\"\"\"\n",
    "\n",
    "# Define a PromptTemplate for generating paraphrases\n",
    "template = template_text + customized_text\n",
    "prompt = PromptTemplate(input_variables=[\"style\", \"output_text\", \"image\"], template=template)\n",
    "\n",
    "# Define an LLMChain for paraphrasing\n",
    "style_paraphrase_chain = LLMChain(\n",
    "    llm=davinci,\n",
    "    prompt=prompt,\n",
    "    output_key='final_output'\n",
    ")\n",
    "\n",
    "# Define a SequentialChain to apply transformations and paraphrasing sequentially\n",
    "sequential_chain = SequentialChain(\n",
    "    chains=[clean_extra_spaces_chain, style_paraphrase_chain],\n",
    "    input_variables=['text', 'style', 'image'],\n",
    "    output_variables=['final_output']\n",
    ")\n",
    "\n",
    "input_text = \"\"\"\n",
    "Please generate marketing content based on the template requirements.\n",
    "\n",
    "please identify the following user input matrices:\n",
    "\n",
    "Product Name: Uniqlo AIRism Cotton Crew Neck T-Shirt\n",
    "Features: Breathable, quick-drying, anti-odor\n",
    "Hashtags: #UniqloOutfit #UniqloFittingRoom\".\n",
    "Weather: Warm, spring\n",
    "Advertising Objective: Promotion\n",
    "Promotion Specials:  2 for $29.90 \n",
    "Style of Writing: For KOLs\n",
    "\"\"\"\n",
    "\n",
    "# Specify the input text and image filename\n",
    "input_data = {'text': input_text, 'style': 'Ready for Some Spring Fun with Uniqlo\\'s AIRism T-Shirts! #UniqloOutfit', 'image': 'image.jpg'}\n",
    "\n",
    "# Run the SequentialChain with the input data\n",
    "count_tokens(sequential_chain, input_data)\n"
   ]
  },
  {
   "cell_type": "markdown",
   "id": "cb5e90d7",
   "metadata": {},
   "source": [
    "## Differences among models"
   ]
  },
  {
   "cell_type": "markdown",
   "id": "81f98fb9",
   "metadata": {},
   "source": [
    "### LLMChain:<br>\n",
    "- The LLMChain, or Language Model Chain, is a construct used to chain together multiple language models (LLMs) or other processing steps to perform complex NLP tasks.\n",
    "- It typically consists of one or more language models (e.g., GPT, BERT) and possibly other processing steps like tokenization, encoding, or decoding.\n",
    "- The purpose of an LLMChain is to process input text sequentially through a series of language models or processing steps to achieve a specific NLP task, such as text generation, summarization, or translation.\n",
    "\n",
    "In my code:\n",
    "- the LLMChain is utilized to generate marketing promotion content based on a given prompt template and input variables.\n",
    "- It uses OpenAI's GPT-4 model (davinci) to process the prompt template and generate text output.\n",
    "- The LLMChain is responsible for processing the prompt template, filling in the input variables, and generating text output based on the model's predictions.\n",
    "\n",
    "### FewShotPromptTemplate:<br>\n",
    "- The FewShotPromptTemplate is a template-based approach used for few-shot learning in NLP tasks.\n",
    "- It involves providing a small number of example prompts along with their corresponding inputs and outputs to train a model to perform a particular task.\n",
    "- The purpose of a FewShotPromptTemplate is to enable models to generalize from a few examples and adapt to new tasks or prompts with limited training data.\n",
    "- It's particularly useful when training data is scarce or expensive to collect, as it allows models to learn from a small number of examples.\n",
    "\n",
    "In my code:<br>\n",
    "- The FewShotPromptTemplate concept is relevant because the LLMChain is trained and operates with a template \n",
    "- These examples serve as training data for the model, allowing it to adapt to different styles or prompts when generating text.\n",
    "\n",
    "### SequentialChain:\n",
    "- The SequentialChain is a concept used to sequentially apply a series of transformations or processing steps to input data.\n",
    "- It can involve a combination of data preprocessing, feature engineering, and model inference steps.\n",
    "- The purpose of a SequentialChain is to orchestrate the sequential execution of processing steps to prepare input data for model inference or to perform multi-step tasks that involve data transformations.\n",
    "\n",
    "In my code: \n",
    "- a SequentialChain is created to apply text transformations (cleaning extra spaces) and then paraphrase the text based on a specific style.\n",
    "- The SequentialChain ensures that the input text is preprocessed before being passed to the language model for further processing."
   ]
  },
  {
   "cell_type": "code",
   "execution_count": null,
   "id": "110dd3c4",
   "metadata": {},
   "outputs": [],
   "source": []
  }
 ],
 "metadata": {
  "kernelspec": {
   "display_name": "Python 3 (ipykernel)",
   "language": "python",
   "name": "python3"
  },
  "language_info": {
   "codemirror_mode": {
    "name": "ipython",
    "version": 3
   },
   "file_extension": ".py",
   "mimetype": "text/x-python",
   "name": "python",
   "nbconvert_exporter": "python",
   "pygments_lexer": "ipython3",
   "version": "3.11.7"
  }
 },
 "nbformat": 4,
 "nbformat_minor": 5
}
